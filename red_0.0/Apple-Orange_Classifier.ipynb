{
 "cells": [
  {
   "cell_type": "code",
   "execution_count": 21,
   "id": "eb41ad07",
   "metadata": {},
   "outputs": [],
   "source": [
    "from sklearn import tree"
   ]
  },
  {
   "cell_type": "code",
   "execution_count": 22,
   "id": "7efec1f6",
   "metadata": {},
   "outputs": [],
   "source": [
    "#features = [[140, \"smooth\"], [130, \"smooth\"], [150, \"bumpy\"], [170, \"bumpy\"]]\n",
    "#labels = [\"apple\", \"apple\", \"orange\", \"orange\"]\n",
    "#f = 0: smooth; 1:bumpy\n",
    "#l = 0:apple; 1:orange\n",
    "features = [[140, 1], [130, 1], [150, 0], [170, 0], [120, 1], [110, 1], [180, 0], [160, 0], [145, 1], [135, 1], [155, 0], [165, 0]]\n",
    "labels = [0, 0, 1,1, 0, 0, 1, 1, 0, 0, 1, 1]"
   ]
  },
  {
   "cell_type": "code",
   "execution_count": 23,
   "id": "c0aa98f4",
   "metadata": {},
   "outputs": [],
   "source": [
    "clf = tree.DecisionTreeClassifier()\n",
    "clf = clf.fit(features, labels)"
   ]
  },
  {
   "cell_type": "code",
   "execution_count": 25,
   "id": "e08a4863",
   "metadata": {},
   "outputs": [
    {
     "name": "stdout",
     "output_type": "stream",
     "text": [
      "[0]\n",
      "[1]\n"
     ]
    }
   ],
   "source": [
    "print(clf.predict([[120, 0]]))\n",
    "print(clf.predict([[155, 1]]))"
   ]
  },
  {
   "cell_type": "code",
   "execution_count": null,
   "id": "0d07f591",
   "metadata": {},
   "outputs": [],
   "source": []
  },
  {
   "cell_type": "code",
   "execution_count": 34,
   "id": "53808100",
   "metadata": {},
   "outputs": [
    {
     "data": {
      "image/png": "[encoded data removed]",
      "text/plain": [
       "<Figure size 640x480 with 1 Axes>"
      ]
     },
     "metadata": {},
     "output_type": "display_data"
    }
   ],
   "source": [
    "import numpy as np\n",
    "import matplotlib.pyplot as plt\n",
    "from sklearn import tree\n",
    "\n",
    "# Extended dataset with more features and labels\n",
    "features = [\n",
    "    [140, 1], [130, 1], [150, 0], [170, 0],   \n",
    "    [120, 1], [110, 1], [180, 0], [160, 0],   \n",
    "    [145, 1], [135, 1], [155, 0], [165, 0]    \n",
    "]\n",
    "\n",
    "labels = [0, 0, 1, 1,    \n",
    "          0, 0, 1, 1,    \n",
    "          0, 0, 1, 1]    \n",
    "\n",
    "# Create and train the Decision Tree Classifier\n",
    "clf = tree.DecisionTreeClassifier()\n",
    "clf = clf.fit(features, labels)\n",
    "\n",
    "# Plotting decision boundaries\n",
    "x_min, x_max = 100, 190\n",
    "y_min, y_max = -1, 2\n",
    "xx, yy = np.meshgrid(np.arange(x_min, x_max, 1),\n",
    "                     np.arange(y_min, y_max, 0.01))\n",
    "\n",
    "Z = clf.predict(np.c_[xx.ravel(), yy.ravel()])\n",
    "Z = Z.reshape(xx.shape)\n",
    "\n",
    "plt.contourf(xx, yy, Z, alpha=0.4, cmap=plt.cm.RdYlBu)\n",
    "\n",
    "# Plotting the training points\n",
    "colors = ['red' if label == 0 else 'orange' for label in labels]\n",
    "for feature, color in zip(features, colors):\n",
    "    plt.scatter(feature[0], feature[1], color=color)\n",
    "\n",
    "# Labels and title\n",
    "plt.xlabel('Feature 1')\n",
    "plt.ylabel('Feature 2')\n",
    "plt.title('Decision Tree Classifier Decision Boundaries')\n",
    "\n",
    "plt.show()\n"
   ]
  },
  {
   "cell_type": "code",
   "execution_count": null,
   "id": "8680666a",
   "metadata": {},
   "outputs": [],
   "source": []
  }
 ],
 "metadata": {
  "kernelspec": {
   "display_name": "Python 3 (ipykernel)",
   "language": "python",
   "name": "python3"
  },
  "language_info": {
   "codemirror_mode": {
    "name": "ipython",
    "version": 3
   },
   "file_extension": ".py",
   "mimetype": "text/x-python",
   "name": "python",
   "nbconvert_exporter": "python",
   "pygments_lexer": "ipython3",
   "version": "3.10.9"
  }
 },
 "nbformat": 4,
 "nbformat_minor": 5
}
