{
 "cells": [
  {
   "cell_type": "code",
   "execution_count": 1,
   "id": "52913ccc",
   "metadata": {},
   "outputs": [
    {
     "name": "stdout",
     "output_type": "stream",
     "text": [
      "     SKY  TEMP HUMIDITY    WIND WATER FORECAST ENJOY\n",
      "0  Sunny  Warm   Normal  Strong  Warm     Same   Yes\n",
      "1  Sunny  Warm     High  Strong  Warm     Same   Yes\n",
      "2  Rainy  Cold     High  Strong  Warm   Change    No\n",
      "3  Sunny  Warm     High  Strong  Cool   Change   Yes\n",
      "The attribute are: \n",
      "[['Sunny' 'Warm' 'Normal' 'Strong' 'Warm' 'Same']\n",
      " ['Sunny' 'Warm' 'High' 'Strong' 'Warm' 'Same']\n",
      " ['Rainy' 'Cold' 'High' 'Strong' 'Warm' 'Change']\n",
      " ['Sunny' 'Warm' 'High' 'Strong' 'Cool' 'Change']]\n",
      "The target are: \n",
      "['Yes' 'Yes' 'No' 'Yes']\n",
      "['Sunny' 'Warm' '?' 'Strong' '?' '?']\n"
     ]
    }
   ],
   "source": [
    "# import module\n",
    "import pandas as pd\n",
    "import numpy as np\n",
    "\n",
    "# load dataset\n",
    "df = pd.read_csv(\"ws.csv\")\n",
    "print(df)\n",
    "\n",
    "# split features\n",
    "attr = np.array(df)[:,:-1]\n",
    "print(\"The attribute are: \")\n",
    "print(attr)\n",
    "\n",
    "# split target\n",
    "target = np.array(df)[:,-1]\n",
    "print(\"The target are: \")\n",
    "print(target)\n",
    "\n",
    "# copy the 1st +ve row in specific hypo\n",
    "for i, val in enumerate(target):\n",
    "    if val == \"Yes\":\n",
    "        hypo = attr[i].copy()\n",
    "        break\n",
    "\n",
    "# update the specific hypo       \n",
    "for i, val in enumerate(attr):\n",
    "    if target[i] == \"Yes\":\n",
    "        for x in range(len(hypo)):\n",
    "            if val[x] != hypo[x]:\n",
    "                hypo[x] = '?'\n",
    "print(hypo)\n",
    "\n"
   ]
  },
  {
   "cell_type": "code",
   "execution_count": null,
   "id": "f2f31d76",
   "metadata": {},
   "outputs": [],
   "source": []
  }
 ],
 "metadata": {
  "kernelspec": {
   "display_name": "Python 3 (ipykernel)",
   "language": "python",
   "name": "python3"
  },
  "language_info": {
   "codemirror_mode": {
    "name": "ipython",
    "version": 3
   },
   "file_extension": ".py",
   "mimetype": "text/x-python",
   "name": "python",
   "nbconvert_exporter": "python",
   "pygments_lexer": "ipython3",
   "version": "3.10.9"
  }
 },
 "nbformat": 4,
 "nbformat_minor": 5
}
