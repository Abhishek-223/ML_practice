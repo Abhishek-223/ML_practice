{
 "cells": [
  {
   "cell_type": "code",
   "execution_count": 5,
   "id": "d7040c90",
   "metadata": {},
   "outputs": [
    {
     "name": "stdout",
     "output_type": "stream",
     "text": [
      "     outlook temperature humidity  windy play\n",
      "0   overcast         hot     high  False  yes\n",
      "1   overcast        cool   normal   True  yes\n",
      "2   overcast        mild     high   True  yes\n",
      "3   overcast         hot   normal  False  yes\n",
      "4      rainy        mild     high  False  yes\n",
      "5      rainy        cool   normal  False  yes\n",
      "6      rainy        cool   normal   True   no\n",
      "7      rainy        mild   normal  False  yes\n",
      "8      rainy        mild     high   True   no\n",
      "9      sunny         hot     high  False   no\n",
      "10     sunny         hot     high   True   no\n",
      "11     sunny        mild     high  False   no\n",
      "12     sunny        cool   normal  False  yes\n",
      "13     sunny        mild   normal   True  yes\n"
     ]
    }
   ],
   "source": [
    "# import module\n",
    "import pandas as pd\n",
    "import numpy as np\n",
    "\n",
    "# load dataset\n",
    "df = pd.read_csv(\"weather.csv\")\n",
    "print(df)"
   ]
  },
  {
   "cell_type": "code",
   "execution_count": 6,
   "id": "db253974",
   "metadata": {},
   "outputs": [
    {
     "name": "stdout",
     "output_type": "stream",
     "text": [
      "The attribute are: \n",
      "[['overcast' 'hot' 'high' False]\n",
      " ['overcast' 'cool' 'normal' True]\n",
      " ['overcast' 'mild' 'high' True]\n",
      " ['overcast' 'hot' 'normal' False]\n",
      " ['rainy' 'mild' 'high' False]\n",
      " ['rainy' 'cool' 'normal' False]\n",
      " ['rainy' 'cool' 'normal' True]\n",
      " ['rainy' 'mild' 'normal' False]\n",
      " ['rainy' 'mild' 'high' True]\n",
      " ['sunny' 'hot' 'high' False]\n",
      " ['sunny' 'hot' 'high' True]\n",
      " ['sunny' 'mild' 'high' False]\n",
      " ['sunny' 'cool' 'normal' False]\n",
      " ['sunny' 'mild' 'normal' True]]\n"
     ]
    }
   ],
   "source": [
    "# split features\n",
    "attr = np.array(df)[:,:-1]\n",
    "print(\"The attribute are: \")\n",
    "print(attr)"
   ]
  },
  {
   "cell_type": "code",
   "execution_count": 7,
   "id": "00ad17e6",
   "metadata": {},
   "outputs": [
    {
     "name": "stdout",
     "output_type": "stream",
     "text": [
      "The target are: \n",
      "['yes' 'yes' 'yes' 'yes' 'yes' 'yes' 'no' 'yes' 'no' 'no' 'no' 'no' 'yes'\n",
      " 'yes']\n"
     ]
    }
   ],
   "source": [
    "# split target\n",
    "target = np.array(df)[:,-1]\n",
    "print(\"The target are: \")\n",
    "print(target)"
   ]
  },
  {
   "cell_type": "code",
   "execution_count": 8,
   "id": "1136f480",
   "metadata": {},
   "outputs": [
    {
     "name": "stdout",
     "output_type": "stream",
     "text": [
      "['?' '?' '?' '?']\n"
     ]
    }
   ],
   "source": [
    "# copy the 1st +ve row in specific hypo\n",
    "for i, val in enumerate(target):\n",
    "    if val == \"yes\":\n",
    "        hypo = attr[i].copy()\n",
    "        break\n",
    "\n",
    "# update the specific hypo       \n",
    "for i, val in enumerate(attr):\n",
    "    if target[i] == \"yes\":\n",
    "        for x in range(len(hypo)):\n",
    "            if val[x] != hypo[x]:\n",
    "                hypo[x] = '?'\n",
    "print(hypo)\n"
   ]
  },
  {
   "cell_type": "code",
   "execution_count": null,
   "id": "80a342c4",
   "metadata": {},
   "outputs": [],
   "source": []
  }
 ],
 "metadata": {
  "kernelspec": {
   "display_name": "Python 3 (ipykernel)",
   "language": "python",
   "name": "python3"
  },
  "language_info": {
   "codemirror_mode": {
    "name": "ipython",
    "version": 3
   },
   "file_extension": ".py",
   "mimetype": "text/x-python",
   "name": "python",
   "nbconvert_exporter": "python",
   "pygments_lexer": "ipython3",
   "version": "3.10.9"
  }
 },
 "nbformat": 4,
 "nbformat_minor": 5
}
